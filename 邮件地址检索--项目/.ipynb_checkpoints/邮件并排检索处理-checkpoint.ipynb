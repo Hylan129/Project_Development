{
 "cells": [
  {
   "cell_type": "code",
   "execution_count": 80,
   "metadata": {},
   "outputs": [],
   "source": [
    "#excel读取\n",
    "import xlrd,re,csv\n",
    "\n",
    "pattern = r'([\\.a-zA-Z0-9_-]+@[a-zA-Z0-9_-]+(\\.[a-zA-Z0-9_-]+)+)'\n",
    "data_raw = xlrd.open_workbook('邮箱并排处理要求.xlsx')#打开需要读取的excel表\n",
    "table = data_raw.sheets()[0] #提取第0个活页博，即excel中首个活页博\n",
    "\n",
    "datas = {}\n",
    "number = 0\n",
    "for i in range(table.nrows):\n",
    "    company,mails = table.row_values(i)\n",
    "    with open('Email_Lists.csv','a',newline='') as code:\n",
    "        m = csv.writer(code,dialect='excel')\n",
    "        for mail,back in re.findall(pattern,mails):\n",
    "            m.writerow([number+1,company,mail]) #写入数据\n",
    "            number += 1"
   ]
  },
  {
   "cell_type": "code",
   "execution_count": 87,
   "metadata": {},
   "outputs": [
    {
     "name": "stdout",
     "output_type": "stream",
     "text": [
      "\n",
      "\n",
      "程序已经开始运行！使用过程中有任何问题，请联系VX:hylan129\n",
      "\n",
      "\n",
      "倒计时5秒开始数据处理！如需结束运行，请及时点击关闭窗口。\n",
      "\n",
      "\n",
      "5\n",
      "4\n",
      "3\n",
      "2\n",
      "1\n",
      "\n",
      "\n",
      "数据正在处理中.......\n",
      "\n",
      "\n"
     ]
    }
   ],
   "source": [
    "# -*- coding:utf-8 -*-\n",
    "import xlrd,re,csv,traceback,time\n",
    "\n",
    "if __name__ == '__main__':\n",
    "    try:\n",
    "        print(\"\\n\\n程序已经开始运行！使用过程中有任何问题，请联系VX:hylan129\\n\\n\")\n",
    "        \n",
    "        print(\"倒计时5秒开始数据处理！如需结束运行，请及时点击关闭窗口。\\n\\n\")\n",
    "        for i in range(5):\n",
    "            print(5-i)\n",
    "            time.sleep(1)\n",
    "        print(\"\\n\\n数据正在处理中.......\\n\\n\")\n",
    "        \n",
    "        start_time = time.time()\n",
    "        \n",
    "        pattern = r'([\\.a-zA-Z0-9_-]+@[a-zA-Z0-9_-]+(\\.[a-zA-Z0-9_-]+)+)'\n",
    "        data_raw = xlrd.open_workbook('邮箱并排处理.xlsx')#打开需要读取的excel表\n",
    "        table = data_raw.sheets()[0] #提取第0个活页博，即excel中首个活页博\n",
    "\n",
    "        datas = {}\n",
    "        number = 0\n",
    "        for i in range(table.nrows):\n",
    "            company,mails = table.row_values(i)\n",
    "            with open('Email_Lists.csv','a',newline='') as code:\n",
    "                m = csv.writer(code,dialect='excel')\n",
    "                for mail,back in re.findall(pattern,mails):\n",
    "                    m.writerow([number+1,company,mail]) #写入数据\n",
    "                    number += 1\n",
    "        \n",
    "        end_time = time.time()\n",
    "        \n",
    "        print('\\n数据处理完毕！！！\\n\\n')\n",
    "        print(\"***总邮件地址数量：{}个，处理耗时：{}秒。\\n\\n***数据处理详情请查看Emails_Lists.csv表格。\".format(\n",
    "            number,round(end_time-start_time,2)))\n",
    "        input(\"\\n程序已执行完成，按Enter键退出！\")\n",
    "    except Exception as e:\n",
    "        traceback.print_exc(file=open('error.txt','a')) \n",
    "        print('\\n程序出错，已结束运行！具体原因清查看error文件。\\n')"
   ]
  },
  {
   "cell_type": "code",
   "execution_count": null,
   "metadata": {},
   "outputs": [],
   "source": []
  }
 ],
 "metadata": {
  "kernelspec": {
   "display_name": "Python 3",
   "language": "python",
   "name": "python3"
  },
  "language_info": {
   "codemirror_mode": {
    "name": "ipython",
    "version": 3
   },
   "file_extension": ".py",
   "mimetype": "text/x-python",
   "name": "python",
   "nbconvert_exporter": "python",
   "pygments_lexer": "ipython3",
   "version": "3.6.9"
  },
  "toc": {
   "base_numbering": 1,
   "nav_menu": {},
   "number_sections": true,
   "sideBar": true,
   "skip_h1_title": false,
   "title_cell": "Table of Contents",
   "title_sidebar": "Contents",
   "toc_cell": false,
   "toc_position": {},
   "toc_section_display": true,
   "toc_window_display": false
  }
 },
 "nbformat": 4,
 "nbformat_minor": 2
}
