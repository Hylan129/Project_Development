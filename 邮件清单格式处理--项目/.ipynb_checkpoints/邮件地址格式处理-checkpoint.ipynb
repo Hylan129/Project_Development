{
 "cells": [
  {
   "cell_type": "code",
   "execution_count": null,
   "metadata": {},
   "outputs": [],
   "source": [
    "/Users/hylan/Desktop/办公工作/软件开发/Washington.xls"
   ]
  },
  {
   "cell_type": "code",
   "execution_count": 2,
   "metadata": {},
   "outputs": [],
   "source": [
    "import re"
   ]
  },
  {
   "cell_type": "code",
   "execution_count": 3,
   "metadata": {},
   "outputs": [],
   "source": [
    "def verifyEmail(email):\n",
    "    pattern = r'^[\\.a-zA-Z0-9_-]+@[a-zA-Z0-9_-]+(\\.[a-zA-Z0-9_-]+)+$'\n",
    "    if re.match(pattern,email) is not None: return True\n",
    "    else: return False\n",
    "\n",
    "def prefixDeal(prefix):\n",
    "    content = re.findall('[a-zA-Z0-9_]+',prefix)\n",
    "    newcontent = [m.capitalize() for m in content]\n",
    "    return ' '.join(newcontent)\n",
    "\n",
    "def emailDeal(email):\n",
    "    if verifyEmail(email):\n",
    "        qianzhui,houzhui= email.split('@')\n",
    "        qianzhui = prefixDeal(qianzhui)\n",
    "        houzhui = houzhui.split('.')[-1]\n",
    "        return [email,qianzhui,houzhui,'邮箱地址正常']\n",
    "    else:\n",
    "        print(\"不合法\",email)\n",
    "        qianzhui = prefixDeal(email.split('@')[0])\n",
    "        houzhui = houzhui.split('.')[-1]\n",
    "        return [email,qianzhui,houzhui,'邮箱地址异常']"
   ]
  },
  {
   "cell_type": "code",
   "execution_count": 72,
   "metadata": {},
   "outputs": [],
   "source": [
    "import xlrd\n",
    "\n",
    "data = xlrd.open_workbook('Washington.xls',formatting_info=False)#打开需要读取的excel表\n",
    "table = data.sheets()[0] #提取第0个活页博，即excel中首个活页博\n",
    "col_data = table.col_values(0) #取出第4列的数据，生成数组。"
   ]
  },
  {
   "cell_type": "code",
   "execution_count": 73,
   "metadata": {},
   "outputs": [],
   "source": [
    "data_dealed = []"
   ]
  },
  {
   "cell_type": "code",
   "execution_count": 74,
   "metadata": {},
   "outputs": [],
   "source": [
    "for data in col_data:\n",
    "    data_dealed.append(emailDeal(data))"
   ]
  },
  {
   "cell_type": "code",
   "execution_count": 76,
   "metadata": {},
   "outputs": [],
   "source": [
    "final_data = sorted(data_dealed,key = lambda x:x[2])"
   ]
  },
  {
   "cell_type": "code",
   "execution_count": 80,
   "metadata": {},
   "outputs": [],
   "source": [
    "#excel 写入\n",
    "import xlwt\n",
    "\n",
    "myWorkbook = xlwt.Workbook()\n",
    "mySheet = myWorkbook.add_sheet('Emails_Information') # 添加活页博\n",
    "\n",
    "title = ['No.','邮件地址','用户名称','国家名别','地址合法性判定结果']\n",
    "#数据写入，写入标题\n",
    "for num,content in enumerate(title):\n",
    "    mySheet.write(0, num, content) \n",
    "\n",
    "#数据循环写入\n",
    "for num_row,contents in enumerate(final_data): #content_list_all为需写入的数组数据\n",
    "    for num_col,content in enumerate(contents):\n",
    "        mySheet.write(num_row+1,num_col+1,content)\n",
    "    mySheet.write(num_row+1,0,num_row+1)\n",
    "myWorkbook.save('Emails_Information_After_Dealed' + '.xls') #保存excle数据表。"
   ]
  },
  {
   "cell_type": "code",
   "execution_count": null,
   "metadata": {},
   "outputs": [],
   "source": []
  },
  {
   "cell_type": "code",
   "execution_count": 4,
   "metadata": {},
   "outputs": [
    {
     "name": "stdout",
     "output_type": "stream",
     "text": [
      "\n",
      "\n",
      "程序已经开始运行！使用过程中有任何问题，请联系VX:hylan129\n",
      "\n",
      "\n",
      "倒计时5秒开始数据处理！如需结束运行，请及时点击关闭窗口(避免误点击)。\n",
      "\n",
      "\n",
      "5\n",
      "4\n",
      "3\n",
      "2\n",
      "1\n",
      "\n",
      "\n",
      "数据正在处理中.......\n",
      "\n",
      "\n",
      "不合法 address/iwata@kinkiyohin.co.jp\n"
     ]
    }
   ],
   "source": [
    "# -*- coding:utf-8  -*-\n",
    "import re,xlwt,xlrd,time,traceback\n",
    "\n",
    "def verifyEmail(email):\n",
    "    pattern = r'^[\\.a-zA-Z0-9_-]+@[a-zA-Z0-9_-]+(\\.[a-zA-Z0-9_-]+)+$'\n",
    "    if re.match(pattern,email) is not None: return True\n",
    "    else: return False\n",
    "\n",
    "def prefixDeal(prefix):\n",
    "    content = re.findall('[a-zA-Z0-9_]+',prefix)\n",
    "    newcontent = [m.capitalize() for m in content]\n",
    "    return ' '.join(newcontent)\n",
    "\n",
    "def emailDeal(email):\n",
    "    if verifyEmail(email):\n",
    "        qianzhui,houzhui= email.split('@')\n",
    "        qianzhui = prefixDeal(qianzhui)\n",
    "        houzhui = houzhui.split('.')[-1]\n",
    "        return [email,qianzhui,houzhui,'邮箱地址正常']\n",
    "    else:\n",
    "        print(\"不合法\",email)\n",
    "        qianzhui = prefixDeal(email.split('@')[0])\n",
    "        houzhui = houzhui.split('.')[-1]\n",
    "        return [email,qianzhui,houzhui,'邮箱地址异常']\n",
    "    \n",
    "if __name__ == '__main__':\n",
    "    try:\n",
    "        print(\"\\n\\n程序已经开始运行！使用过程中有任何问题，请联系VX:hylan129\\n\\n\")\n",
    "        \n",
    "        print(\"倒计时5秒开始数据处理！如需结束运行，请及时点击关闭窗口(避免误点击)。\\n\\n\")\n",
    "        for i in range(5):\n",
    "            print(5-i)\n",
    "            time.sleep(1)\n",
    "        print(\"\\n\\n数据正在处理中.......\\n\\n\")\n",
    "        \n",
    "        start_time = time.time()\n",
    "        \n",
    "        #读取xls原始数据：\n",
    "        data = xlrd.open_workbook('待处理表格.xls',formatting_info=False)#打开需要读取的excel表\n",
    "        table = data.sheets()[0] #提取第0个活页博，即excel中首个活页博\n",
    "        col_data = table.col_values(0) #取出第4列的数据，生成数组。\n",
    "\n",
    "        #数据处理，提取前缀和后缀\n",
    "        data_dealed = []\n",
    "        for data in col_data:\n",
    "            data_dealed.append(emailDeal(data))\n",
    "        #数据处理，排序\n",
    "        final_data = sorted(data_dealed,key = lambda x:x[2])\n",
    "        \n",
    "        #异常地址计数：\n",
    "        unnormal_number = 0\n",
    "        for ad in final_data:\n",
    "            if ad[3] == '邮箱地址异常':unnormal_number += 1\n",
    "        \n",
    "        #写入xls信息\n",
    "        myWorkbook = xlwt.Workbook()\n",
    "        mySheet = myWorkbook.add_sheet('Emails_Information') # 添加活页博\n",
    "\n",
    "        title = ['No.','邮件地址','用户名称','国家名别','地址合法性判定结果']\n",
    "        #数据写入，写入标题\n",
    "        for num,content in enumerate(title):\n",
    "            mySheet.write(0, num, content) \n",
    "\n",
    "        #数据循环写入\n",
    "        for num_row,contents in enumerate(final_data): #content_list_all为需写入的数组数据\n",
    "            for num_col,content in enumerate(contents):\n",
    "                mySheet.write(num_row+1,num_col+1,content)\n",
    "            mySheet.write(num_row+1,0,num_row+1)\n",
    "        myWorkbook.save('Emails_Information_After_Dealed' + '.xls') #保存excle数据表。\n",
    "        \n",
    "        end_time = time.time()\n",
    "        \n",
    "        print(\"***总处理邮件地址数量：{}个，异常邮件地址：{}个，耗时：{}秒。\\n\\n***数据处理详情请查看Emails_Information_After_Dealed.xls表格。\".format(\n",
    "                len(col_data),unnormal_number,round(end_time-start_time,2))\n",
    "             )\n",
    "        input(\"\\n程序已执行完成，按Enter键退出！\")\n",
    "    except Exception as e:\n",
    "        traceback.print_exc(file=open('error.txt','a')) "
   ]
  },
  {
   "cell_type": "code",
   "execution_count": null,
   "metadata": {},
   "outputs": [],
   "source": []
  }
 ],
 "metadata": {
  "kernelspec": {
   "display_name": "Python 3",
   "language": "python",
   "name": "python3"
  },
  "language_info": {
   "codemirror_mode": {
    "name": "ipython",
    "version": 3
   },
   "file_extension": ".py",
   "mimetype": "text/x-python",
   "name": "python",
   "nbconvert_exporter": "python",
   "pygments_lexer": "ipython3",
   "version": "3.6.9"
  },
  "toc": {
   "base_numbering": 1,
   "nav_menu": {},
   "number_sections": true,
   "sideBar": true,
   "skip_h1_title": false,
   "title_cell": "Table of Contents",
   "title_sidebar": "Contents",
   "toc_cell": false,
   "toc_position": {},
   "toc_section_display": true,
   "toc_window_display": false
  }
 },
 "nbformat": 4,
 "nbformat_minor": 2
}
