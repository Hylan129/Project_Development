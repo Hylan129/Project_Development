{
 "cells": [
  {
   "cell_type": "code",
   "execution_count": 1,
   "metadata": {},
   "outputs": [],
   "source": [
    "# FileMailTo.sendEmail(final_page,computer_information[0],'files/logo.jpg','files/foreward.jpg',constants['mails'])"
   ]
  },
  {
   "cell_type": "code",
   "execution_count": 1,
   "metadata": {},
   "outputs": [],
   "source": [
    "#!/usr/bin/python3\n",
    "import smtplib,time,csv,xlrd,traceback\n",
    "from email.mime.text import MIMEText\n",
    "from email.header import Header\n",
    "from email.mime.multipart import MIMEMultipart\n",
    "from email.mime.image import MIMEImage\n",
    "\n",
    "def getTimeNow():\n",
    "    timeArray = time.localtime(time.time())\n",
    "    TimeNow = time.strftime(\"%Y-%m-%d %H:%M:%S\",timeArray)\n",
    "    return TimeNow\n",
    "\n",
    "def sendEmail(email,password,html_page,customer_name,towhos):\n",
    "    try:\n",
    "        # 第三方 SMTP 服务\n",
    "        mail_host=\"smtp.163.com\"  #设置服务器\n",
    "        mail_user= email   #用户名\n",
    "        mail_pass= password   #口令 \n",
    "        \n",
    "        message = MIMEMultipart()\n",
    "        sender = email\n",
    "        receivers = towhos # 接收邮件，可设置为你的QQ邮箱或者其他邮箱\n",
    "        \n",
    "        message['From'] = email\n",
    "        message['To'] = ','.join(receivers)\n",
    "\n",
    "        subject = '紧急通知_关于您支付宝花呗借呗欠款的通知  ' + customer_name\n",
    "        message['Subject'] = Header(subject, 'utf-8')\n",
    "\n",
    "        #添加附件2，网页表单。\n",
    "        message.attach(MIMEText(html_page, 'html', 'utf-8'))\n",
    "\n",
    "        smtpObj = smtplib.SMTP() \n",
    "        smtpObj.connect(mail_host, 25)    # 25 为 SMTP 端口号\n",
    "        smtpObj.login(mail_user,mail_pass)\n",
    "        smtpObj.sendmail(sender, receivers, message.as_string())\n",
    "        \n",
    "        print(getTimeNow(),customer_name,\" 发送成功！\")\n",
    "        \n",
    "        with open('Sucessed_lists.csv','a',newline='') as code:\n",
    "            m = csv.writer(code,dialect='excel')\n",
    "            m.writerow([customer_name,email,\"发送成功\",getTimeNow()]) #写入数据\n",
    "    except Exception as e:\n",
    "        with open('error.txt','a') as code:\n",
    "            code.write(str(e) + \"邮件发送失败！\\n\")\n",
    "        with open('Failed_lists.csv','a',newline='') as code:\n",
    "            m = csv.writer(code,dialect='excel')\n",
    "            m.writerow([customer_name,email,\"发送失败\",getTimeNow(),str(e)]) #写入数据"
   ]
  },
  {
   "cell_type": "code",
   "execution_count": 76,
   "metadata": {},
   "outputs": [],
   "source": [
    "final_page = open(\"0618/content_cuidai_0618.html\",encoding='utf-8').read().replace(\"\\n\",'')"
   ]
  },
  {
   "cell_type": "code",
   "execution_count": 87,
   "metadata": {},
   "outputs": [],
   "source": [
    "data = xlrd.open_workbook('0618/网商银行.xls')#打开需要读取的excel表\n",
    "customers_information = data.sheet_by_name('Sheet1') #提取第0个活页博，即excel中首个活页博"
   ]
  },
  {
   "cell_type": "code",
   "execution_count": 88,
   "metadata": {},
   "outputs": [
    {
     "data": {
      "text/plain": [
       "(134, ['陆海丹', '2207578759@qq.com'])"
      ]
     },
     "execution_count": 88,
     "metadata": {},
     "output_type": "execute_result"
    }
   ],
   "source": [
    "customers_information.nrows,customers_information.row_values(0)"
   ]
  },
  {
   "cell_type": "code",
   "execution_count": 90,
   "metadata": {},
   "outputs": [],
   "source": [
    "sheet2 = customers_information.col_values(1)"
   ]
  },
  {
   "cell_type": "code",
   "execution_count": 91,
   "metadata": {},
   "outputs": [
    {
     "data": {
      "text/plain": [
       "(688, 134)"
      ]
     },
     "execution_count": 91,
     "metadata": {},
     "output_type": "execute_result"
    }
   ],
   "source": [
    "len(sheet1),len(sheet2)"
   ]
  },
  {
   "cell_type": "code",
   "execution_count": 93,
   "metadata": {},
   "outputs": [],
   "source": [
    "needsheet = sheet1 + sheet2"
   ]
  },
  {
   "cell_type": "code",
   "execution_count": 92,
   "metadata": {},
   "outputs": [
    {
     "data": {
      "text/plain": [
       "822"
      ]
     },
     "execution_count": 92,
     "metadata": {},
     "output_type": "execute_result"
    }
   ],
   "source": [
    "len(sheet1) + len(sheet2)"
   ]
  },
  {
   "cell_type": "code",
   "execution_count": 148,
   "metadata": {},
   "outputs": [
    {
     "data": {
      "text/plain": [
       "318"
      ]
     },
     "execution_count": 148,
     "metadata": {},
     "output_type": "execute_result"
    }
   ],
   "source": [
    "# 待发送的地址：needsheet[36*13:]  去掉倒数第二批。即22批。"
   ]
  },
  {
   "cell_type": "code",
   "execution_count": 77,
   "metadata": {},
   "outputs": [],
   "source": [
    "sender_information = ['jyzyg129@163.com', 'oW12ExECC3ERhCWn']\n",
    "##' jyzyg129@vip.163.com','GTAQUMMDOCEORPWH',\n",
    "## 'rll130562@163.com','BOMCLXKMCPOHLSIR'"
   ]
  },
  {
   "cell_type": "code",
   "execution_count": null,
   "metadata": {},
   "outputs": [],
   "source": [
    "jyzyg129@vip.163.com"
   ]
  },
  {
   "cell_type": "code",
   "execution_count": 100,
   "metadata": {},
   "outputs": [
    {
     "data": {
      "text/plain": [
       "30"
      ]
     },
     "execution_count": 100,
     "metadata": {},
     "output_type": "execute_result"
    }
   ],
   "source": [
    "len(needsheet[792:828])"
   ]
  },
  {
   "cell_type": "code",
   "execution_count": 167,
   "metadata": {},
   "outputs": [
    {
     "data": {
      "text/plain": [
       "'example8855@qq.com,1242083322@qq.com,vipyu@126.com,webai@foxmail.com,810392@qq.com,1395578527@qq.com,375710882@qq.com,jbcwdx@163.com,15897089998@163.com,zxdexiyuge@163.com,534004766@qq.com,346117981@qq.com,372700832@qq.com,wujunsuperman@163.com,550235444@qq.com,changkui2006@126.com,88342618@qq.com,cbbc2005@163.com,gcfk5705@163.com,jiao1392870314@163.com,962901852@qq.com,55884601@qq.com,le_parrain@live.cn,parrain@live.cn,parrain@vip.qq.com,1052003879@qq.com,2560954284@qq.com,524030152@qq.com,2235212203@qq.com,87177438@qq.com'"
      ]
     },
     "execution_count": 167,
     "metadata": {},
     "output_type": "execute_result"
    }
   ],
   "source": [
    "# 待发送的地址：needsheet[36*13:]  去掉倒数第二批。即22批。\n",
    "','.join(needsheet[36*22:36*23])  #已发送倒数第二批"
   ]
  },
  {
   "cell_type": "code",
   "execution_count": 56,
   "metadata": {},
   "outputs": [],
   "source": [
    "users = {}"
   ]
  },
  {
   "cell_type": "code",
   "execution_count": 60,
   "metadata": {},
   "outputs": [],
   "source": [
    "for i in range(42,192,30):\n",
    "    first_list = []\n",
    "    for j in range(i,i+30):\n",
    "        first_list.append(customers_information.row_values(j)[2])\n",
    "    users[i] = first_list"
   ]
  },
  {
   "cell_type": "code",
   "execution_count": 108,
   "metadata": {},
   "outputs": [
    {
     "data": {
      "text/plain": [
       "0.6493122343901847"
      ]
     },
     "execution_count": 108,
     "metadata": {},
     "output_type": "execute_result"
    }
   ],
   "source": [
    "1*random.random()+0.01"
   ]
  },
  {
   "cell_type": "code",
   "execution_count": 101,
   "metadata": {},
   "outputs": [],
   "source": [
    "import random,time"
   ]
  },
  {
   "cell_type": "code",
   "execution_count": 103,
   "metadata": {},
   "outputs": [
    {
     "data": {
      "text/plain": [
       "0.5767068814207024"
      ]
     },
     "execution_count": 103,
     "metadata": {},
     "output_type": "execute_result"
    }
   ],
   "source": [
    "random.random()"
   ]
  },
  {
   "cell_type": "code",
   "execution_count": 168,
   "metadata": {},
   "outputs": [
    {
     "name": "stdout",
     "output_type": "stream",
     "text": [
      "2020-06-19 09:59:37   发送成功！\n"
     ]
    }
   ],
   "source": [
    "for i in range(36*22,821,36):    \n",
    "    sendEmail('jyzyg129@163.com', 'oW12ExECC3ERhCWn',final_page,'',needsheet[i:(i+36)])\n",
    "    time.sleep(4*random.random())"
   ]
  },
  {
   "cell_type": "code",
   "execution_count": 164,
   "metadata": {},
   "outputs": [
    {
     "data": {
      "text/plain": [
       "0.016666666666666666"
      ]
     },
     "execution_count": 164,
     "metadata": {},
     "output_type": "execute_result"
    }
   ],
   "source": [
    "5000/300000"
   ]
  },
  {
   "cell_type": "code",
   "execution_count": null,
   "metadata": {},
   "outputs": [],
   "source": [
    "import smtplib\n",
    "import pandas as pd\n",
    "from time import sleep\n",
    "from email.mime.multipart import MIMEMultipart\n",
    "from email.mime.text import MIMEText\n",
    "from email.mime.image import MIMEImage\n",
    "import random\n",
    "import socks  # pip install pysocks\n",
    "\n",
    "\n",
    "strFrom = 'testing@gmail.com'\n",
    "\n",
    "emails = ('test1@gmail.com','test2@gmail.com')\n",
    "\n",
    "msgRoot = MIMEMultipart('related')\n",
    "msgRoot['Subject'] = 'test message'\n",
    "msgRoot['From'] = strFrom\n",
    "msgRoot.preamble = 'This is a multi-part message in MIME format.'\n",
    "\n",
    "\n",
    "msgText = 'schedule for tomorrow'\n",
    "\n",
    "ip2 = 'xx.xxx.xx.121'\n",
    "port2 = '8811'\n",
    "\n",
    "for email in emails:\n",
    "        socks.setdefaultproxy(socks.SOCKS5, ip2, int(port2))\n",
    "        socks.wrapmodule(smtplib)\n",
    "        server = smtplib.SMTP(\"smtp.gmail.com:587\")\n",
    "        server.starttls()\n",
    "        server.login(strFrom, 'password')\n",
    "        print(\"From:\",strFrom)\n",
    "        server.sendmail(strFrom, email, msgText)\n",
    "        print(\"To:\",email)\n",
    "        server.quit()\n",
    "        sleep(10)"
   ]
  },
  {
   "cell_type": "code",
   "execution_count": null,
   "metadata": {},
   "outputs": [],
   "source": []
  },
  {
   "cell_type": "code",
   "execution_count": null,
   "metadata": {},
   "outputs": [],
   "source": []
  }
 ],
 "metadata": {
  "kernelspec": {
   "display_name": "Python 3",
   "language": "python",
   "name": "python3"
  },
  "language_info": {
   "codemirror_mode": {
    "name": "ipython",
    "version": 3
   },
   "file_extension": ".py",
   "mimetype": "text/x-python",
   "name": "python",
   "nbconvert_exporter": "python",
   "pygments_lexer": "ipython3",
   "version": "3.6.9"
  },
  "toc": {
   "base_numbering": 1,
   "nav_menu": {},
   "number_sections": true,
   "sideBar": true,
   "skip_h1_title": false,
   "title_cell": "Table of Contents",
   "title_sidebar": "Contents",
   "toc_cell": false,
   "toc_position": {},
   "toc_section_display": true,
   "toc_window_display": false
  }
 },
 "nbformat": 4,
 "nbformat_minor": 2
}
