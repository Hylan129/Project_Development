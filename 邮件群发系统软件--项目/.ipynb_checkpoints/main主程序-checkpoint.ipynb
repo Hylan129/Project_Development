{
 "cells": [
  {
   "cell_type": "code",
   "execution_count": null,
   "metadata": {},
   "outputs": [],
   "source": [
    "# 读取setting_information 表格数据\n",
    "\n",
    "# 生成正文内容\n",
    "\n",
    "# 生成主题\n",
    "\n",
    "# 添加照片\n",
    "\n",
    "#设置代理\n",
    "\n",
    "#发送邮件\n",
    "\n",
    "#记录发件情况\n",
    "\n",
    "#按照设定规格继续发送"
   ]
  },
  {
   "cell_type": "code",
   "execution_count": 1,
   "metadata": {},
   "outputs": [],
   "source": [
    "from package import Excel_Read,Time_Deal,Email_Custom,Pdf_Attach,Picture_Attach,IP_Check"
   ]
  },
  {
   "cell_type": "code",
   "execution_count": 2,
   "metadata": {},
   "outputs": [],
   "source": [
    "from package import Excel_Read,Time_Deal,Email_Custom,Pdf_Attach,Picture_Attach,IP_Check\n",
    "#读取表格    \n",
    "rawdata = Excel_Read.get_xlsdata(\"settings/setting_informations.xls\")\n",
    "\n",
    "#读取活页簿 \n",
    "data_sheets = ['mail_content','mailto_lists','mails_lists','socks_ip']\n",
    "\n",
    "mail_content,mailto_lists,mails_lists,socks_ip = [rawdata.sheet_by_name(name) for name in data_sheets]"
   ]
  },
  {
   "cell_type": "code",
   "execution_count": 3,
   "metadata": {},
   "outputs": [],
   "source": [
    "mail_subject,mail_content,attach_pictures,attach_pdfs = mail_content.col_values(1)[0:4]"
   ]
  },
  {
   "cell_type": "code",
   "execution_count": 4,
   "metadata": {},
   "outputs": [],
   "source": [
    "attach_pictures,attach_pdfs= [pic for pic in attach_pictures.split(\"#\")],[pic for pic in attach_pdfs.split(\"#\")],"
   ]
  },
  {
   "cell_type": "code",
   "execution_count": 8,
   "metadata": {},
   "outputs": [
    {
     "data": {
      "text/plain": [
       "('{}繰り返し使用が可能なフェイスシールドーー通関に困らせないように！{}',\n",
       " '你好！',\n",
       " ['263K.jpg', '产品1.jpg', '产品2.jpg', '旧款 （日文）.jpg', '说明书.jpg'],\n",
       " ['锐标检测报告.pdf', 'GB test report(GB14866-2006).pdf'],\n",
       " [[1.0, '柯洁', 'itsnick129@gmail.com', '柯', '洁', '围棋大神', '我的榜样'],\n",
       "  [2.0, '脸书', 'jyzyg129@163.com', '脸', '书', '自媒体', '为自由而生'],\n",
       "  [3.0, 'Google Face', 'yuqishouli001@163.com', '谷', '歌', '搜索引擎', '不作恶']],\n",
       " [[1.0, 'jyzyg129@163.com', 'oW12ExECC3ERhCWn', 'ハードウェア', '1', 100.0, '2-->5'],\n",
       "  ['2',\n",
       "   '1021527932@qq.com',\n",
       "   'zyjmijdgxrmvbaic',\n",
       "   '하드웨어',\n",
       "   '20',\n",
       "   100.0,\n",
       "   '60-->120'],\n",
       "  ['3',\n",
       "   'jyzyg129@vip.163.com',\n",
       "   'GTAQUMMDOCEORPWH',\n",
       "   '超胜五金_Ironmongery',\n",
       "   '30',\n",
       "   120.0,\n",
       "   '20-->50']],\n",
       " [[1.0, '42.157.5.204', 1080.0, '', ''],\n",
       "  [2.0, '60.174.233.195', 1080.0, '', '']])"
      ]
     },
     "execution_count": 8,
     "metadata": {},
     "output_type": "execute_result"
    }
   ],
   "source": [
    "mail_subject,mail_content,attach_pictures,attach_pdfs,mailto_lists,mails_lists,socks_ip"
   ]
  },
  {
   "cell_type": "code",
   "execution_count": 5,
   "metadata": {},
   "outputs": [],
   "source": [
    "mailto_lists = [mailto_lists.row_values(num) for num in range(1,mailto_lists.nrows)]"
   ]
  },
  {
   "cell_type": "code",
   "execution_count": 6,
   "metadata": {},
   "outputs": [],
   "source": [
    "mails_lists =  [mails_lists.row_values(num) for num in range(1,mails_lists.nrows)]"
   ]
  },
  {
   "cell_type": "code",
   "execution_count": 7,
   "metadata": {},
   "outputs": [],
   "source": [
    "socks_ip =  [socks_ip.row_values(num) for num in range(1,socks_ip.nrows)]"
   ]
  },
  {
   "cell_type": "code",
   "execution_count": 8,
   "metadata": {},
   "outputs": [],
   "source": [
    "picture_attaches = [Picture_Attach.uploadPicture(\"attach_files/\" + pic,'') for pic in attach_pictures]"
   ]
  },
  {
   "cell_type": "code",
   "execution_count": 9,
   "metadata": {},
   "outputs": [],
   "source": [
    "pdf_attaches = [Pdf_Attach.uploadPdf(\"attach_files/\" + pdf)  for pdf in attach_pdfs]"
   ]
  },
  {
   "cell_type": "code",
   "execution_count": 10,
   "metadata": {},
   "outputs": [],
   "source": [
    "content = open(\"settings/content.html\",encoding='utf-8').read().replace(\"\\n\",'')"
   ]
  },
  {
   "cell_type": "code",
   "execution_count": 20,
   "metadata": {},
   "outputs": [
    {
     "name": "stdout",
     "output_type": "stream",
     "text": [
      "2020-07-01 22:19:46 jyzyg129@163.com ['=?utf-8?b?5p+v5rSB?= <jyzyg129@163.com>'] 成功\n",
      "2020-07-01 22:19:48 jyzyg129@163.com ['=?utf-8?b?6IS45Lmm?= <yuqishouli001@163.com>'] 成功\n",
      "2020-07-01 22:19:49 jyzyg129@163.com ['Google Face <yuqishouli001@163.com>'] 成功\n"
     ]
    }
   ],
   "source": [
    "for mails in mails_lists:\n",
    "    user,password,user_name = mails[1],mails[2],mails[3]\n",
    "    user_name = formataddr([user_name,user])\n",
    "    for customs in mailto_lists:\n",
    "        touser = [formataddr([customs[1],customs[2]])]\n",
    "        custom_subject = mail_subject.format(*customs[3:5])\n",
    "        #custom_content = content.format(*customs[5:])\n",
    "        newcontent = replace_char(content,customs[5:])\n",
    "        \n",
    "        Email_Custom.sendEmail(user.split('@')[-1],user_name,user,password,custom_subject,newcontent,touser,picture_attaches,pdf_attaches)\n",
    "        print(Time_Deal.getTimeNow(),user,touser,\"成功\")\n",
    "    break"
   ]
  },
  {
   "cell_type": "code",
   "execution_count": 12,
   "metadata": {},
   "outputs": [],
   "source": [
    "def replace_char(string,char):\n",
    "    m,n = string.find('{}'),string.rfind('{}')\n",
    "    string = list(string)\n",
    "    string[m],string[n] = char\n",
    "    string[m+1],string[n+1] ='',''\n",
    "    return ''.join(string)"
   ]
  },
  {
   "cell_type": "code",
   "execution_count": 13,
   "metadata": {},
   "outputs": [
    {
     "data": {
      "text/plain": [
       "'117.150.165.237'"
      ]
     },
     "execution_count": 13,
     "metadata": {},
     "output_type": "execute_result"
    }
   ],
   "source": [
    "IP_Check.getcurrentip()"
   ]
  },
  {
   "cell_type": "code",
   "execution_count": 19,
   "metadata": {},
   "outputs": [
    {
     "data": {
      "text/plain": [
       "['263K.jpg', '产品1.jpg', '产品2.jpg', '旧款 （日文）.jpg', '说明书.jpg']"
      ]
     },
     "execution_count": 19,
     "metadata": {},
     "output_type": "execute_result"
    }
   ],
   "source": [
    "attach_pictures"
   ]
  },
  {
   "cell_type": "code",
   "execution_count": 13,
   "metadata": {},
   "outputs": [],
   "source": [
    "from email.utils import formataddr"
   ]
  },
  {
   "cell_type": "code",
   "execution_count": 19,
   "metadata": {},
   "outputs": [
    {
     "data": {
      "text/plain": [
       "'=?utf-8?b?5Lit5Zu9?= <jyzyg129@163.com>'"
      ]
     },
     "execution_count": 19,
     "metadata": {},
     "output_type": "execute_result"
    }
   ],
   "source": [
    "formataddr(['中国','jyzyg129@163.com'],charset='utf-8')"
   ]
  },
  {
   "cell_type": "code",
   "execution_count": 18,
   "metadata": {},
   "outputs": [],
   "source": [
    "formataddr?"
   ]
  },
  {
   "cell_type": "code",
   "execution_count": null,
   "metadata": {},
   "outputs": [],
   "source": []
  }
 ],
 "metadata": {
  "kernelspec": {
   "display_name": "Python 3",
   "language": "python",
   "name": "python3"
  },
  "language_info": {
   "codemirror_mode": {
    "name": "ipython",
    "version": 3
   },
   "file_extension": ".py",
   "mimetype": "text/x-python",
   "name": "python",
   "nbconvert_exporter": "python",
   "pygments_lexer": "ipython3",
   "version": "3.6.9"
  },
  "toc": {
   "base_numbering": 1,
   "nav_menu": {},
   "number_sections": true,
   "sideBar": true,
   "skip_h1_title": false,
   "title_cell": "Table of Contents",
   "title_sidebar": "Contents",
   "toc_cell": false,
   "toc_position": {},
   "toc_section_display": true,
   "toc_window_display": false
  }
 },
 "nbformat": 4,
 "nbformat_minor": 2
}
