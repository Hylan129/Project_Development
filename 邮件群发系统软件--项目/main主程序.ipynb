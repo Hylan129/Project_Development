{
 "cells": [
  {
   "cell_type": "code",
   "execution_count": 1,
   "metadata": {},
   "outputs": [],
   "source": [
    "from package import Excel_Read,Time_Deal,Email_Custom,Pdf_Attach,Picture_Attach,IP_Check,Functions\n",
    "from email.utils import formataddr"
   ]
  },
  {
   "cell_type": "code",
   "execution_count": 2,
   "metadata": {},
   "outputs": [],
   "source": [
    "#读取表格    \n",
    "rawdata = Excel_Read.get_xlsdata(\"settings/setting_informations.xls\")\n",
    "\n",
    "#读取活页簿 \n",
    "data_sheets = ['mail_content','mailto_lists','mails_lists','socks_ip']\n",
    "\n",
    "mail_content,mailto_lists,mails_lists,socks_ip = [rawdata.sheet_by_name(name) for name in data_sheets]"
   ]
  },
  {
   "cell_type": "code",
   "execution_count": 3,
   "metadata": {},
   "outputs": [],
   "source": [
    "mail_subject,mail_content,attach_pictures,attach_pdfs = mail_content.col_values(1)[0:4]"
   ]
  },
  {
   "cell_type": "code",
   "execution_count": 4,
   "metadata": {},
   "outputs": [],
   "source": [
    "attach_pictures,attach_pdfs= [pic for pic in attach_pictures.split(\"#\")],[pic for pic in attach_pdfs.split(\"#\")],"
   ]
  },
  {
   "cell_type": "code",
   "execution_count": 5,
   "metadata": {},
   "outputs": [],
   "source": [
    "mailto_lists = [mailto_lists.row_values(num) for num in range(1,mailto_lists.nrows)]"
   ]
  },
  {
   "cell_type": "code",
   "execution_count": 6,
   "metadata": {},
   "outputs": [],
   "source": [
    "mails_lists =  [mails_lists.row_values(num) for num in range(1,mails_lists.nrows)]"
   ]
  },
  {
   "cell_type": "code",
   "execution_count": 7,
   "metadata": {},
   "outputs": [],
   "source": [
    "socks_ip =  [socks_ip.row_values(num) for num in range(1,socks_ip.nrows)]"
   ]
  },
  {
   "cell_type": "code",
   "execution_count": 8,
   "metadata": {},
   "outputs": [],
   "source": [
    "picture_attaches = [Picture_Attach.uploadPicture(\"attach_files/\" + pic,'') for pic in attach_pictures]"
   ]
  },
  {
   "cell_type": "code",
   "execution_count": 9,
   "metadata": {},
   "outputs": [],
   "source": [
    "pdf_attaches = [Pdf_Attach.uploadPdf(\"attach_files/\" + pdf)  for pdf in attach_pdfs]"
   ]
  },
  {
   "cell_type": "code",
   "execution_count": 10,
   "metadata": {},
   "outputs": [],
   "source": [
    "#发件正文内容进行判定，是发html文件，还是纯文本。\n",
    "if mail_content == '{}{}':\n",
    "    content = open(\"settings/content.html\",encoding='utf-8').read().replace(\"\\n\",'')\n",
    "    content_class = 'html'\n",
    "else:\n",
    "    content = mail_content\n",
    "    content_class = 'plain'"
   ]
  },
  {
   "cell_type": "code",
   "execution_count": 30,
   "metadata": {},
   "outputs": [],
   "source": [
    "user_monitor = Functions.Monitor_User(mails_lists)"
   ]
  },
  {
   "cell_type": "code",
   "execution_count": 56,
   "metadata": {},
   "outputs": [
    {
     "data": {
      "text/plain": [
       "{'jyzyg129@163.com': {'TotalTimes': 8,\n",
       "  'Per_Count': 1,\n",
       "  'Remain_Times': 8,\n",
       "  'TimeGap_Lists': [2.464, 4.965, 3.01, 2.999, 2.62, 2.225, 3.839],\n",
       "  'Last_SendTime': ''},\n",
       " '1021527932@qq.com': {'TotalTimes': 5,\n",
       "  'Per_Count': 2,\n",
       "  'Remain_Times': 5,\n",
       "  'TimeGap_Lists': [116.55, 80.272, 116.398, 92.215],\n",
       "  'Last_SendTime': ''},\n",
       " 'jyzyg129@vip.163.com': {'TotalTimes': 3,\n",
       "  'Per_Count': 1,\n",
       "  'Remain_Times': 3,\n",
       "  'TimeGap_Lists': [41.117, 22.491],\n",
       "  'Last_SendTime': ''}}"
      ]
     },
     "execution_count": 56,
     "metadata": {},
     "output_type": "execute_result"
    }
   ],
   "source": [
    "user_monitor"
   ]
  },
  {
   "cell_type": "code",
   "execution_count": null,
   "metadata": {},
   "outputs": [],
   "source": [
    "informations = []\n",
    "for information in user_monitor.keys():\n",
    "    Send_Times = user_monitor[information]['TotalTimes'] - user_monitor[information]['Remain_Times']\n",
    "    informations.append([information,user_monitor[information]['Per_Count'] * Send_Times,user_monitor[information]['Remain_Times'],''])"
   ]
  },
  {
   "cell_type": "code",
   "execution_count": 57,
   "metadata": {},
   "outputs": [
    {
     "name": "stdout",
     "output_type": "stream",
     "text": [
      "本次发件完毕，请点击Enter键退出！\n"
     ]
    },
    {
     "data": {
      "text/plain": [
       "''"
      ]
     },
     "execution_count": 57,
     "metadata": {},
     "output_type": "execute_result"
    }
   ],
   "source": [
    "input(\"本次发件完毕，请点击Enter键退出！\")      \n"
   ]
  },
  {
   "cell_type": "code",
   "execution_count": 61,
   "metadata": {},
   "outputs": [
    {
     "data": {
      "text/plain": [
       "False"
      ]
     },
     "execution_count": 61,
     "metadata": {},
     "output_type": "execute_result"
    }
   ],
   "source": [
    "'mnnnn' in vars()"
   ]
  },
  {
   "cell_type": "code",
   "execution_count": null,
   "metadata": {},
   "outputs": [],
   "source": [
    "Functions.Record_CSV(file_records[2],['No','发件账号','发件成功地址数量','发件失败地址数量','配置发送次数剩余数量','备注'])"
   ]
  },
  {
   "cell_type": "code",
   "execution_count": 31,
   "metadata": {},
   "outputs": [],
   "source": [
    "total_count,total_time = Functions.Check_Possiblity(user_monitor)"
   ]
  },
  {
   "cell_type": "code",
   "execution_count": 36,
   "metadata": {},
   "outputs": [],
   "source": [
    "instructions = \"\"\"\n",
    "\n",
    "{}\n",
    "\n",
    "发件配置策略评估：\n",
    "\n",
    "1、总需求发件对象邮件地址数量：{}个；配置发件箱数量：{}个；\n",
    "2、根据发件配置策略评估：\n",
    "    总共可发件数量：{}个邮件地址，完成{}个地址发件总耗时约{}分钟；\n",
    "{}\n",
    "\n",
    "{}\n",
    "\"\"\"\n",
    "if total_count >= len(mailto_lists):\n",
    "    conclusion = \"\\n结论：由于可发件数量大于目标发件数量，配置策略可行。请点击Enter键开始发件，如需重新配置发件策略，请直接关闭窗口！\"\n",
    "else :\n",
    "    conclusion = \"\\n结论：由于可发件数量小于目标发件数量，配置策略建议优化。如需重新配置发件策略，请直接关闭窗口；如坚持采用该策略，请点击Enter键开始发件\""
   ]
  },
  {
   "cell_type": "code",
   "execution_count": 45,
   "metadata": {},
   "outputs": [
    {
     "name": "stdout",
     "output_type": "stream",
     "text": [
      "\n",
      "\n",
      "####################################################################################################\n",
      "\n",
      "发件配置策略评估：\n",
      "\n",
      "1、总需求发件对象邮件地址数量：4个；配置发件箱数量：3个；\n",
      "2、根据发件配置策略评估：\n",
      "    总共可发件数量：21个邮件地址，完成21个地址发件总耗时约8分钟；\n",
      "\n",
      "结论：由于可发件数量大于目标发件数量，配置策略可行。请点击Enter键开始发件，如需重新配置发件策略，请直接关闭窗口！\n",
      "\n",
      "####################################################################################################\n",
      "\n"
     ]
    }
   ],
   "source": [
    "print(instructions.format('#'*100,len(mailto_lists),len(mails_lists),total_count,total_count,total_time,conclusion,'#'*100))"
   ]
  },
  {
   "cell_type": "code",
   "execution_count": 40,
   "metadata": {},
   "outputs": [
    {
     "data": {
      "text/plain": [
       "('#',\n",
       " 4,\n",
       " 3,\n",
       " 21,\n",
       " 8,\n",
       " '\\n结论：由于可发件数量大于目标发件数量，配置策略可行。请点击Enter键开始发件，如需重新配置发件策略，请直接关闭窗口！',\n",
       " '#')"
      ]
     },
     "execution_count": 40,
     "metadata": {},
     "output_type": "execute_result"
    }
   ],
   "source": [
    "'#',len(mailto_lists),len(mails_lists),total_count,total_time,conclusion,'#'"
   ]
  },
  {
   "cell_type": "code",
   "execution_count": 37,
   "metadata": {},
   "outputs": [
    {
     "name": "stdout",
     "output_type": "stream",
     "text": [
      "2020-07-02 18:50:24 jyzyg129@163.com itsnick129@gmail.com 1对1发送成功！\n",
      "2020-07-02 18:50:27 1021527932@qq.com 1对2发送成功！\n",
      "2020-07-02 18:50:29 jyzyg129@vip.163.com jyzyg129@vip.163.com 1对1发送成功！\n"
     ]
    }
   ],
   "source": [
    "#开始邮件发送：\n",
    "\n",
    "while mailto_lists:\n",
    "    \n",
    "    #循环检查每一个发件箱\n",
    "    for mails in mails_lists:\n",
    "\n",
    "        #发件人信息：发件地址，授权码，发件人昵称\n",
    "        user,password,user_name = mails[1],mails[2],mails[3]\n",
    "        \n",
    "        if not user_monitor[user]['Remain_Times'] > 0: continue\n",
    "        \n",
    "        #判定是否符合发件条件\n",
    "        #条件有两种情况：a、没发过，首次发；b、发过且时间间隔已到\n",
    "        \n",
    "        if user_monitor[user]['Last_SendTime'] == '' or (Time_Deal.time.time() - user_monitor[user]['Last_SendTime'] >= user_monitor[user]['TimeGap_Lists'][0]) :\n",
    "            \n",
    "            #发件人昵称处理\n",
    "            user_name = formataddr([user_name,user])\n",
    "            \n",
    "            #发件箱单次发件收件人数量\n",
    "            person_count = user_monitor[user]['Per_Count']\n",
    "            #符合发件条件后，区分是单发还是群发；\n",
    "            if  person_count == 1:\n",
    "\n",
    "                #取出收件人信息，一个收件人\n",
    "                customs_one = mailto_lists[0]\n",
    "                \n",
    "                #收件人处理，个性化收件人名称\n",
    "                touser = [formataddr([customs_one[1],customs_one[2]])]\n",
    "                \n",
    "                #个性化邮件主题，添加变量\n",
    "                custom_subject = mail_subject.format(*customs_one[3:5])\n",
    "                #个性化正文内容，添加变量\n",
    "                custom_content = Functions.Replace_strchar(content,'{}',customs_one[5:])\n",
    "\n",
    "                #邮件正式开始发送\n",
    "                Email_Custom.sendEmail(user.split('@')[-1],user_name,user,password,custom_subject,custom_content,content_class,touser,picture_attaches,pdf_attaches)\n",
    "\n",
    "                print(Time_Deal.getTimeNow(),user,customs_one[2],\"1对1发送成功！\")\n",
    "\n",
    "                user_monitor[user]['Remain_Times'] -= 1\n",
    "                user_monitor[user]['Last_SendTime'] = Time_Deal.time.time()\n",
    "                user_monitor[user]['TimeGap_Lists'].pop(0)\n",
    "                mailto_lists = mailto_lists[1:]\n",
    "            \n",
    "            elif person_count > 1:\n",
    "            \n",
    "                #取出收件人信息，Percount个收件人\n",
    "                customs_multiple = mailto_lists[0:person_count]\n",
    "                \n",
    "                #收件人处理，个性化收件人名称\n",
    "                tousers = [formataddr([customs_one[1],customs_one[2]]) for customs_one in customs_multiple]\n",
    "                \n",
    "                #个性化邮件主题，添加变量\n",
    "                custom_subject = mail_subject.format('','')\n",
    "                #个性化正文内容，添加变量\n",
    "                custom_content = Functions.Replace_strchar(content,'{}',['',''])\n",
    "\n",
    "                #邮件正式开始发送\n",
    "                Email_Custom.sendEmail(user.split('@')[-1],user_name,user,password,custom_subject,custom_content,content_class,tousers,picture_attaches,pdf_attaches)\n",
    "\n",
    "                print(Time_Deal.getTimeNow(),user,\"1对\"+ str(person_count) + \"发送成功！\")\n",
    "\n",
    "                user_monitor[user]['Remain_Times'] -= 1\n",
    "                user_monitor[user]['Last_SendTime'] = Time_Deal.time.time()\n",
    "                user_monitor[user]['TimeGap_Lists'].pop(0)\n",
    "                mailto_lists = mailto_lists[person_count:]\n",
    "                \n",
    "            if not mailto_lists: break"
   ]
  },
  {
   "cell_type": "code",
   "execution_count": 48,
   "metadata": {},
   "outputs": [
    {
     "data": {
      "text/plain": [
       "'117.150.165.237'"
      ]
     },
     "execution_count": 48,
     "metadata": {},
     "output_type": "execute_result"
    }
   ],
   "source": [
    "IP_Check.getcurrentip()"
   ]
  },
  {
   "cell_type": "code",
   "execution_count": 55,
   "metadata": {},
   "outputs": [],
   "source": [
    "with open('data_record/error.txt' ,'a') as code:\n",
    "    code.write('129')"
   ]
  },
  {
   "cell_type": "code",
   "execution_count": 62,
   "metadata": {},
   "outputs": [
    {
     "data": {
      "text/plain": [
       "'2020-07-03 22:00:28'"
      ]
     },
     "execution_count": 62,
     "metadata": {},
     "output_type": "execute_result"
    }
   ],
   "source": [
    "Time_Deal.getTimeNow()"
   ]
  },
  {
   "cell_type": "code",
   "execution_count": 75,
   "metadata": {},
   "outputs": [],
   "source": [
    "# 初始化文档存储csv文件\n",
    "file_record_names = ['发件成功记录','发件失败记录','邮件群发整体报告']\n",
    "file_name_start_time = Time_Deal.getTimeNow()[0:-3].replace(':','时') + \"分\"\n",
    "file_records = [file_name_start_time + \"_\"+name for name in file_record_names]"
   ]
  },
  {
   "cell_type": "code",
   "execution_count": 76,
   "metadata": {},
   "outputs": [
    {
     "data": {
      "text/plain": [
       "['2020-07-03 22时17分_发件成功记录',\n",
       " '2020-07-03 22时17分_发件失败记录',\n",
       " '2020-07-03 22时17分_邮件群发整体报告']"
      ]
     },
     "execution_count": 76,
     "metadata": {},
     "output_type": "execute_result"
    }
   ],
   "source": [
    "file_records"
   ]
  },
  {
   "cell_type": "code",
   "execution_count": 68,
   "metadata": {},
   "outputs": [],
   "source": [
    "with open(file_records[0] + \".txt\",'a') as code:\n",
    "    code.write('ceshi')"
   ]
  },
  {
   "cell_type": "code",
   "execution_count": null,
   "metadata": {},
   "outputs": [],
   "source": []
  }
 ],
 "metadata": {
  "kernelspec": {
   "display_name": "Python 3",
   "language": "python",
   "name": "python3"
  },
  "language_info": {
   "codemirror_mode": {
    "name": "ipython",
    "version": 3
   },
   "file_extension": ".py",
   "mimetype": "text/x-python",
   "name": "python",
   "nbconvert_exporter": "python",
   "pygments_lexer": "ipython3",
   "version": "3.6.9"
  },
  "toc": {
   "base_numbering": 1,
   "nav_menu": {},
   "number_sections": true,
   "sideBar": true,
   "skip_h1_title": false,
   "title_cell": "Table of Contents",
   "title_sidebar": "Contents",
   "toc_cell": false,
   "toc_position": {},
   "toc_section_display": true,
   "toc_window_display": false
  }
 },
 "nbformat": 4,
 "nbformat_minor": 2
}
