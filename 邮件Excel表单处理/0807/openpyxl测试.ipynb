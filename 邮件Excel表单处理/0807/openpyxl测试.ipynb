{
 "cells": [
  {
   "cell_type": "code",
   "execution_count": 42,
   "metadata": {},
   "outputs": [],
   "source": [
    "n=r\"D:\\0-云迹办公\\office\\5-软件相关\\个人开发软件\\邮件Excel表单处理\\0608\\HQ买家_NEW_TEST.xlsx\""
   ]
  },
  {
   "cell_type": "code",
   "execution_count": 75,
   "metadata": {},
   "outputs": [],
   "source": [
    "import time,datetime,tkinter,os,xlrd,xlwt,openpyxl"
   ]
  },
  {
   "cell_type": "code",
   "execution_count": 230,
   "metadata": {},
   "outputs": [],
   "source": [
    "from openpyxl import load_workbook,Workbook\n",
    "from openpyxl.styles import Alignment,Color,Font"
   ]
  },
  {
   "cell_type": "code",
   "execution_count": 227,
   "metadata": {},
   "outputs": [],
   "source": [
    "Color?"
   ]
  },
  {
   "cell_type": "code",
   "execution_count": 234,
   "metadata": {},
   "outputs": [
    {
     "name": "stderr",
     "output_type": "stream",
     "text": [
      "<ipython-input-234-8af1fc5e72b3>:2: DeprecationWarning: Call to deprecated function get_sheet_by_name (Use wb[sheetname]).\n",
      "  mySheet = myWorkbook.get_sheet_by_name('Sheet')# 添加活页博\n"
     ]
    }
   ],
   "source": [
    "myWorkbook = Workbook()\n",
    "mySheet = myWorkbook.get_sheet_by_name('Sheet')# 添加活页博\n",
    "mySheet.title = \"result\"\n",
    "base_style = Alignment(wrapText=True,vertical = 'center')\n",
    "mySheet.merge_cells(start_row=1, start_column=1, end_row=2, end_column=10)\n",
    "\n",
    "mySheet.cell(1,1).value = \"邮件地址数据查重整理报告清单\"\n",
    "mySheet.cell(1,1).alignment = Alignment(wrapText=True,vertical = 'center',horizontal=\"center\")\n",
    "mySheet.cell(1,1).font = Font(bold=True, color=\"00FF0000\")"
   ]
  },
  {
   "cell_type": "code",
   "execution_count": 235,
   "metadata": {},
   "outputs": [],
   "source": [
    "myWorkbook.save(\"129.xlsx\")"
   ]
  },
  {
   "cell_type": "code",
   "execution_count": 193,
   "metadata": {},
   "outputs": [],
   "source": [
    "pyxl_data = Workbook()"
   ]
  },
  {
   "cell_type": "code",
   "execution_count": 177,
   "metadata": {},
   "outputs": [
    {
     "ename": "NameError",
     "evalue": "name '调用单元格对齐方式' is not defined",
     "output_type": "error",
     "traceback": [
      "\u001b[1;31m---------------------------------------------------------------------------\u001b[0m",
      "\u001b[1;31mNameError\u001b[0m                                 Traceback (most recent call last)",
      "\u001b[1;32m<ipython-input-177-3f67b54764f3>\u001b[0m in \u001b[0;36m<module>\u001b[1;34m\u001b[0m\n\u001b[0;32m      7\u001b[0m     \u001b[0mindent\u001b[0m \u001b[1;33m=\u001b[0m \u001b[1;36m0\u001b[0m \u001b[1;31m# 缩进0\u001b[0m\u001b[1;33m\u001b[0m\u001b[1;33m\u001b[0m\u001b[0m\n\u001b[0;32m      8\u001b[0m   )\n\u001b[1;32m----> 9\u001b[1;33m \u001b[0m调用单元格对齐方式\u001b[0m\u001b[1;33m\u001b[0m\u001b[1;33m\u001b[0m\u001b[0m\n\u001b[0m\u001b[0;32m     10\u001b[0m \u001b[0msheet1\u001b[0m\u001b[1;33m[\u001b[0m\u001b[1;34m'a1'\u001b[0m\u001b[1;33m]\u001b[0m\u001b[1;33m.\u001b[0m\u001b[0malignment\u001b[0m\u001b[1;33m=\u001b[0m\u001b[0malignment\u001b[0m\u001b[1;33m\u001b[0m\u001b[1;33m\u001b[0m\u001b[0m\n",
      "\u001b[1;31mNameError\u001b[0m: name '调用单元格对齐方式' is not defined"
     ]
    }
   ],
   "source": [
    "alignment = Alignment(\n",
    "    horizontal = 'general', # 水平：常规\n",
    "    vertical = 'bottom',   # 垂直：底部对齐\n",
    "    text_rotation = 0,   # 文本方向：0度\n",
    "    wrap_text = False,   # 自动换行\n",
    "    shrink_to_fit = False,  # 缩小字体填充\n",
    "    indent = 0 # 缩进0\n",
    "  )\n",
    "调用单元格对齐方式\n",
    "sheet1['a1'].alignment=alignment"
   ]
  },
  {
   "cell_type": "code",
   "execution_count": 194,
   "metadata": {},
   "outputs": [
    {
     "name": "stderr",
     "output_type": "stream",
     "text": [
      "<ipython-input-194-7116b4d9b613>:1: DeprecationWarning: Call to deprecated function get_sheet_by_name (Use wb[sheetname]).\n",
      "  newtable = pyxl_data.get_sheet_by_name('Sheet')\n"
     ]
    }
   ],
   "source": [
    "newtable = pyxl_data.get_sheet_by_name('Sheet')"
   ]
  },
  {
   "cell_type": "code",
   "execution_count": 203,
   "metadata": {},
   "outputs": [],
   "source": [
    "CONTENTS = ['112356984311235698431123569843112356984311235698433434112356984334341123511235698431123569843112356984311235698431123569843343411235698433434112356984311235698433434112356984334341123569843112356984311235698433434112356984334341123569843112356984334341123569843343469843112356984334112356984311235698431123569843112356984311235698433434112356984334341123511235698431123569843112356984311235698431123569843343411235698433434112356984311235698433434112356984334341123569843112356984311235698433434112356984334341123569843112356984334341123569843343469843112356984334341123569843343411235698431123569843112356984334341123569843343411235698431123569843343411235698433434341123569843343411235698431123569843112356984334341123569843343411235698431123569843343411235698433434',2,3,4,5,6]"
   ]
  },
  {
   "cell_type": "code",
   "execution_count": 204,
   "metadata": {},
   "outputs": [],
   "source": [
    "newtable.append(CONTENTS)"
   ]
  },
  {
   "cell_type": "code",
   "execution_count": 205,
   "metadata": {},
   "outputs": [],
   "source": [
    "newtable.title = \"result\""
   ]
  },
  {
   "cell_type": "code",
   "execution_count": 206,
   "metadata": {},
   "outputs": [
    {
     "data": {
      "text/plain": [
       "['result']"
      ]
     },
     "execution_count": 206,
     "metadata": {},
     "output_type": "execute_result"
    }
   ],
   "source": [
    "pyxl_data.sheetnames"
   ]
  },
  {
   "cell_type": "code",
   "execution_count": 211,
   "metadata": {},
   "outputs": [],
   "source": [
    "newtable.row_dimensions[2].height = 100"
   ]
  },
  {
   "cell_type": "code",
   "execution_count": 216,
   "metadata": {},
   "outputs": [],
   "source": [
    "newtable.cell(row=1,column=1).alignment = Alignment(wrapText=True,vertical = 'center',)"
   ]
  },
  {
   "cell_type": "code",
   "execution_count": 213,
   "metadata": {},
   "outputs": [],
   "source": [
    "newtable.column_dimensions['A'].width = 100"
   ]
  },
  {
   "cell_type": "code",
   "execution_count": 217,
   "metadata": {},
   "outputs": [],
   "source": [
    "newtable.merge_cells(start_row=1, start_column=2, end_row=2, end_column=2)"
   ]
  },
  {
   "cell_type": "code",
   "execution_count": 223,
   "metadata": {},
   "outputs": [],
   "source": [
    "newtable.cell(row=1,column=2).value = \"nihao\""
   ]
  },
  {
   "cell_type": "code",
   "execution_count": 224,
   "metadata": {},
   "outputs": [],
   "source": [
    "pyxl_data.save(\"zh.xlsx\")"
   ]
  },
  {
   "cell_type": "code",
   "execution_count": 101,
   "metadata": {},
   "outputs": [],
   "source": [
    "def get_xlsdata(path):\n",
    "    try:\n",
    "        data = xlrd.open_workbook(path)#打开需要读取的excel表\n",
    "        return data\n",
    "    except Exception as e:\n",
    "        with open('error.txt','a') as code:\n",
    "            code.write(\"get_xlsdata()出错：\" + str(e)+\"\\n\\n\")\n",
    "        print(\"程序报错: get_xlsdata \" + str(e))\n",
    "        #return ''"
   ]
  },
  {
   "cell_type": "code",
   "execution_count": 52,
   "metadata": {},
   "outputs": [],
   "source": [
    "m = get_xlsdata(n)"
   ]
  },
  {
   "cell_type": "code",
   "execution_count": 53,
   "metadata": {},
   "outputs": [
    {
     "data": {
      "text/plain": [
       "['Sheet1']"
      ]
     },
     "execution_count": 53,
     "metadata": {},
     "output_type": "execute_result"
    }
   ],
   "source": [
    "m.sheet_names()"
   ]
  },
  {
   "cell_type": "code",
   "execution_count": 54,
   "metadata": {},
   "outputs": [],
   "source": [
    "data_test = m.sheet_by_name('Sheet1')"
   ]
  },
  {
   "cell_type": "code",
   "execution_count": 55,
   "metadata": {},
   "outputs": [
    {
     "data": {
      "text/plain": [
       "(200001, 7)"
      ]
     },
     "execution_count": 55,
     "metadata": {},
     "output_type": "execute_result"
    }
   ],
   "source": [
    "data_test.nrows,data_test.ncols"
   ]
  },
  {
   "cell_type": "code",
   "execution_count": 56,
   "metadata": {},
   "outputs": [
    {
     "data": {
      "text/plain": [
       "'哈喽'"
      ]
     },
     "execution_count": 56,
     "metadata": {},
     "output_type": "execute_result"
    }
   ],
   "source": [
    "data_test.col_values(6)[-1]"
   ]
  },
  {
   "cell_type": "code",
   "execution_count": 22,
   "metadata": {},
   "outputs": [
    {
     "data": {
      "text/plain": [
       "['', '', '', '', '', '', '', '', '', '']"
      ]
     },
     "execution_count": 22,
     "metadata": {},
     "output_type": "execute_result"
    }
   ],
   "source": [
    "['' for n in range(10)]"
   ]
  },
  {
   "cell_type": "code",
   "execution_count": 4,
   "metadata": {},
   "outputs": [
    {
     "data": {
      "text/plain": [
       "'ABC.C-OM'"
      ]
     },
     "execution_count": 4,
     "metadata": {},
     "output_type": "execute_result"
    }
   ],
   "source": [
    "'abc.c-om'.upper()"
   ]
  },
  {
   "cell_type": "code",
   "execution_count": null,
   "metadata": {},
   "outputs": [],
   "source": []
  }
 ],
 "metadata": {
  "kernelspec": {
   "display_name": "Python 3",
   "language": "python",
   "name": "python3"
  },
  "language_info": {
   "codemirror_mode": {
    "name": "ipython",
    "version": 3
   },
   "file_extension": ".py",
   "mimetype": "text/x-python",
   "name": "python",
   "nbconvert_exporter": "python",
   "pygments_lexer": "ipython3",
   "version": "3.9.0"
  }
 },
 "nbformat": 4,
 "nbformat_minor": 4
}
